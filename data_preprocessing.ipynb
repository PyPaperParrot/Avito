{
 "cells": [
  {
   "cell_type": "code",
   "execution_count": 1,
   "metadata": {
    "ExecuteTime": {
     "end_time": "2019-05-06T19:33:20.343185Z",
     "start_time": "2019-05-06T19:32:44.878013Z"
    }
   },
   "outputs": [],
   "source": [
    "import pandas as pd"
   ]
  },
  {
   "cell_type": "code",
   "execution_count": 2,
   "metadata": {
    "ExecuteTime": {
     "end_time": "2019-05-06T19:33:39.715697Z",
     "start_time": "2019-05-06T19:33:22.799773Z"
    }
   },
   "outputs": [
    {
     "data": {
      "text/html": [
       "<div>\n",
       "<style scoped>\n",
       "    .dataframe tbody tr th:only-of-type {\n",
       "        vertical-align: middle;\n",
       "    }\n",
       "\n",
       "    .dataframe tbody tr th {\n",
       "        vertical-align: top;\n",
       "    }\n",
       "\n",
       "    .dataframe thead th {\n",
       "        text-align: right;\n",
       "    }\n",
       "</style>\n",
       "<table border=\"1\" class=\"dataframe\">\n",
       "  <thead>\n",
       "    <tr style=\"text-align: right;\">\n",
       "      <th></th>\n",
       "      <th>item_id</th>\n",
       "      <th>title</th>\n",
       "      <th>description</th>\n",
       "      <th>price</th>\n",
       "      <th>category_id</th>\n",
       "    </tr>\n",
       "  </thead>\n",
       "  <tbody>\n",
       "    <tr>\n",
       "      <th>0</th>\n",
       "      <td>0</td>\n",
       "      <td>Картина</td>\n",
       "      <td>Гобелен. Размеры 139х84см.</td>\n",
       "      <td>1000.0</td>\n",
       "      <td>19</td>\n",
       "    </tr>\n",
       "    <tr>\n",
       "      <th>1</th>\n",
       "      <td>1</td>\n",
       "      <td>Стулья из прессованной кожи</td>\n",
       "      <td>Продам недорого 4 стула из светлой прессованно...</td>\n",
       "      <td>1250.0</td>\n",
       "      <td>22</td>\n",
       "    </tr>\n",
       "    <tr>\n",
       "      <th>2</th>\n",
       "      <td>2</td>\n",
       "      <td>Домашняя мини баня</td>\n",
       "      <td>Мини баня МБ-1(мини сауна), предназначена для ...</td>\n",
       "      <td>13000.0</td>\n",
       "      <td>37</td>\n",
       "    </tr>\n",
       "    <tr>\n",
       "      <th>3</th>\n",
       "      <td>3</td>\n",
       "      <td>Эксклюзивная коллекция книг \"Трансаэро\" + подарок</td>\n",
       "      <td>Продам эксклюзивную коллекцию книг, выпущенную...</td>\n",
       "      <td>4000.0</td>\n",
       "      <td>43</td>\n",
       "    </tr>\n",
       "    <tr>\n",
       "      <th>4</th>\n",
       "      <td>4</td>\n",
       "      <td>Ноутбук aser</td>\n",
       "      <td>Продаётся ноутбук ACER e5-511C2TA. Куплен в ко...</td>\n",
       "      <td>19000.0</td>\n",
       "      <td>1</td>\n",
       "    </tr>\n",
       "  </tbody>\n",
       "</table>\n",
       "</div>"
      ],
      "text/plain": [
       "   item_id                                              title  \\\n",
       "0        0                                            Картина   \n",
       "1        1                        Стулья из прессованной кожи   \n",
       "2        2                                 Домашняя мини баня   \n",
       "3        3  Эксклюзивная коллекция книг \"Трансаэро\" + подарок   \n",
       "4        4                                       Ноутбук aser   \n",
       "\n",
       "                                         description    price  category_id  \n",
       "0                         Гобелен. Размеры 139х84см.   1000.0           19  \n",
       "1  Продам недорого 4 стула из светлой прессованно...   1250.0           22  \n",
       "2  Мини баня МБ-1(мини сауна), предназначена для ...  13000.0           37  \n",
       "3  Продам эксклюзивную коллекцию книг, выпущенную...   4000.0           43  \n",
       "4  Продаётся ноутбук ACER e5-511C2TA. Куплен в ко...  19000.0            1  "
      ]
     },
     "execution_count": 2,
     "metadata": {},
     "output_type": "execute_result"
    }
   ],
   "source": [
    "data = pd.read_csv('train.csv')\n",
    "data.head()"
   ]
  },
  {
   "cell_type": "code",
   "execution_count": 3,
   "metadata": {
    "ExecuteTime": {
     "end_time": "2019-05-06T19:34:03.513299Z",
     "start_time": "2019-05-06T19:33:55.530337Z"
    }
   },
   "outputs": [
    {
     "data": {
      "text/html": [
       "<div>\n",
       "<style scoped>\n",
       "    .dataframe tbody tr th:only-of-type {\n",
       "        vertical-align: middle;\n",
       "    }\n",
       "\n",
       "    .dataframe tbody tr th {\n",
       "        vertical-align: top;\n",
       "    }\n",
       "\n",
       "    .dataframe thead th {\n",
       "        text-align: right;\n",
       "    }\n",
       "</style>\n",
       "<table border=\"1\" class=\"dataframe\">\n",
       "  <thead>\n",
       "    <tr style=\"text-align: right;\">\n",
       "      <th></th>\n",
       "      <th>item_id</th>\n",
       "      <th>text</th>\n",
       "      <th>price</th>\n",
       "      <th>category_id</th>\n",
       "    </tr>\n",
       "  </thead>\n",
       "  <tbody>\n",
       "    <tr>\n",
       "      <th>0</th>\n",
       "      <td>0</td>\n",
       "      <td>Картина Гобелен. Размеры 139х84см.</td>\n",
       "      <td>1000.0</td>\n",
       "      <td>19</td>\n",
       "    </tr>\n",
       "    <tr>\n",
       "      <th>1</th>\n",
       "      <td>1</td>\n",
       "      <td>Стулья из прессованной кожи Продам недорого 4 ...</td>\n",
       "      <td>1250.0</td>\n",
       "      <td>22</td>\n",
       "    </tr>\n",
       "    <tr>\n",
       "      <th>2</th>\n",
       "      <td>2</td>\n",
       "      <td>Домашняя мини баня Мини баня МБ-1(мини сауна),...</td>\n",
       "      <td>13000.0</td>\n",
       "      <td>37</td>\n",
       "    </tr>\n",
       "    <tr>\n",
       "      <th>3</th>\n",
       "      <td>3</td>\n",
       "      <td>Эксклюзивная коллекция книг \"Трансаэро\" + пода...</td>\n",
       "      <td>4000.0</td>\n",
       "      <td>43</td>\n",
       "    </tr>\n",
       "    <tr>\n",
       "      <th>4</th>\n",
       "      <td>4</td>\n",
       "      <td>Ноутбук aser Продаётся ноутбук ACER e5-511C2TA...</td>\n",
       "      <td>19000.0</td>\n",
       "      <td>1</td>\n",
       "    </tr>\n",
       "  </tbody>\n",
       "</table>\n",
       "</div>"
      ],
      "text/plain": [
       "   item_id                                               text    price  \\\n",
       "0        0                 Картина Гобелен. Размеры 139х84см.   1000.0   \n",
       "1        1  Стулья из прессованной кожи Продам недорого 4 ...   1250.0   \n",
       "2        2  Домашняя мини баня Мини баня МБ-1(мини сауна),...  13000.0   \n",
       "3        3  Эксклюзивная коллекция книг \"Трансаэро\" + пода...   4000.0   \n",
       "4        4  Ноутбук aser Продаётся ноутбук ACER e5-511C2TA...  19000.0   \n",
       "\n",
       "   category_id  \n",
       "0           19  \n",
       "1           22  \n",
       "2           37  \n",
       "3           43  \n",
       "4            1  "
      ]
     },
     "execution_count": 3,
     "metadata": {},
     "output_type": "execute_result"
    }
   ],
   "source": [
    "data.insert(1 , 'text', data.apply(lambda x: x['title'] + ' ' + x['description'], axis=1))\n",
    "data.drop(['title', 'description'], axis=1, inplace=True)\n",
    "\n",
    "data.head()"
   ]
  },
  {
   "cell_type": "code",
   "execution_count": 4,
   "metadata": {
    "ExecuteTime": {
     "end_time": "2019-05-06T19:34:04.908008Z",
     "start_time": "2019-05-06T19:34:04.903534Z"
    }
   },
   "outputs": [],
   "source": [
    "import re\n",
    "\n",
    "#Let's use 'GOOD OLD'regular expressions for cleanup and standard func '.lower()' to make words similar\n",
    "def del_symb(text):\n",
    "    #return re.sub(r\"[^a-zA-Zа-яёА-Я0-9]\", \" \", text.lower())\n",
    "    return re.sub(r\"[^a-zA-Zа-яёА-Я]\", \" \", text.lower())"
   ]
  },
  {
   "cell_type": "code",
   "execution_count": 5,
   "metadata": {
    "ExecuteTime": {
     "end_time": "2019-05-06T19:34:22.555663Z",
     "start_time": "2019-05-06T19:34:14.109735Z"
    }
   },
   "outputs": [
    {
     "data": {
      "text/html": [
       "<div>\n",
       "<style scoped>\n",
       "    .dataframe tbody tr th:only-of-type {\n",
       "        vertical-align: middle;\n",
       "    }\n",
       "\n",
       "    .dataframe tbody tr th {\n",
       "        vertical-align: top;\n",
       "    }\n",
       "\n",
       "    .dataframe thead th {\n",
       "        text-align: right;\n",
       "    }\n",
       "</style>\n",
       "<table border=\"1\" class=\"dataframe\">\n",
       "  <thead>\n",
       "    <tr style=\"text-align: right;\">\n",
       "      <th></th>\n",
       "      <th>item_id</th>\n",
       "      <th>text</th>\n",
       "      <th>price</th>\n",
       "      <th>category_id</th>\n",
       "    </tr>\n",
       "  </thead>\n",
       "  <tbody>\n",
       "    <tr>\n",
       "      <th>0</th>\n",
       "      <td>0</td>\n",
       "      <td>картина гобелен  размеры    х  см</td>\n",
       "      <td>1000.0</td>\n",
       "      <td>19</td>\n",
       "    </tr>\n",
       "    <tr>\n",
       "      <th>1</th>\n",
       "      <td>1</td>\n",
       "      <td>стулья из прессованной кожи продам недорого   ...</td>\n",
       "      <td>1250.0</td>\n",
       "      <td>22</td>\n",
       "    </tr>\n",
       "    <tr>\n",
       "      <th>2</th>\n",
       "      <td>2</td>\n",
       "      <td>домашняя мини баня мини баня мб   мини сауна  ...</td>\n",
       "      <td>13000.0</td>\n",
       "      <td>37</td>\n",
       "    </tr>\n",
       "    <tr>\n",
       "      <th>3</th>\n",
       "      <td>3</td>\n",
       "      <td>эксклюзивная коллекция книг  трансаэро    пода...</td>\n",
       "      <td>4000.0</td>\n",
       "      <td>43</td>\n",
       "    </tr>\n",
       "    <tr>\n",
       "      <th>4</th>\n",
       "      <td>4</td>\n",
       "      <td>ноутбук aser продаётся ноутбук acer e     c ta...</td>\n",
       "      <td>19000.0</td>\n",
       "      <td>1</td>\n",
       "    </tr>\n",
       "  </tbody>\n",
       "</table>\n",
       "</div>"
      ],
      "text/plain": [
       "   item_id                                               text    price  \\\n",
       "0        0                 картина гобелен  размеры    х  см    1000.0   \n",
       "1        1  стулья из прессованной кожи продам недорого   ...   1250.0   \n",
       "2        2  домашняя мини баня мини баня мб   мини сауна  ...  13000.0   \n",
       "3        3  эксклюзивная коллекция книг  трансаэро    пода...   4000.0   \n",
       "4        4  ноутбук aser продаётся ноутбук acer e     c ta...  19000.0   \n",
       "\n",
       "   category_id  \n",
       "0           19  \n",
       "1           22  \n",
       "2           37  \n",
       "3           43  \n",
       "4            1  "
      ]
     },
     "execution_count": 5,
     "metadata": {},
     "output_type": "execute_result"
    }
   ],
   "source": [
    "data['text'] = data['text'].apply(del_symb)\n",
    "\n",
    "data.head()"
   ]
  },
  {
   "cell_type": "code",
   "execution_count": 6,
   "metadata": {
    "ExecuteTime": {
     "end_time": "2019-05-06T18:49:56.799609Z",
     "start_time": "2019-05-06T18:49:56.790713Z"
    }
   },
   "outputs": [],
   "source": [
    "def digits_cleaner(text):\n",
    "    text_without_dig = [w for w in text.split() if not w.isdigit()] \n",
    "    return ' '.join(text_without_dig)"
   ]
  },
  {
   "cell_type": "code",
   "execution_count": 7,
   "metadata": {
    "ExecuteTime": {
     "end_time": "2019-05-06T18:50:00.871233Z",
     "start_time": "2019-05-06T18:49:57.484750Z"
    }
   },
   "outputs": [
    {
     "data": {
      "text/html": [
       "<div>\n",
       "<style scoped>\n",
       "    .dataframe tbody tr th:only-of-type {\n",
       "        vertical-align: middle;\n",
       "    }\n",
       "\n",
       "    .dataframe tbody tr th {\n",
       "        vertical-align: top;\n",
       "    }\n",
       "\n",
       "    .dataframe thead th {\n",
       "        text-align: right;\n",
       "    }\n",
       "</style>\n",
       "<table border=\"1\" class=\"dataframe\">\n",
       "  <thead>\n",
       "    <tr style=\"text-align: right;\">\n",
       "      <th></th>\n",
       "      <th>item_id</th>\n",
       "      <th>text</th>\n",
       "      <th>price</th>\n",
       "      <th>category_id</th>\n",
       "    </tr>\n",
       "  </thead>\n",
       "  <tbody>\n",
       "    <tr>\n",
       "      <th>0</th>\n",
       "      <td>0</td>\n",
       "      <td>картина гобелен размеры х см</td>\n",
       "      <td>1000.0</td>\n",
       "      <td>19</td>\n",
       "    </tr>\n",
       "    <tr>\n",
       "      <th>1</th>\n",
       "      <td>1</td>\n",
       "      <td>стулья из прессованной кожи продам недорого ст...</td>\n",
       "      <td>1250.0</td>\n",
       "      <td>22</td>\n",
       "    </tr>\n",
       "    <tr>\n",
       "      <th>2</th>\n",
       "      <td>2</td>\n",
       "      <td>домашняя мини баня мини баня мб мини сауна пре...</td>\n",
       "      <td>13000.0</td>\n",
       "      <td>37</td>\n",
       "    </tr>\n",
       "    <tr>\n",
       "      <th>3</th>\n",
       "      <td>3</td>\n",
       "      <td>эксклюзивная коллекция книг трансаэро подарок ...</td>\n",
       "      <td>4000.0</td>\n",
       "      <td>43</td>\n",
       "    </tr>\n",
       "    <tr>\n",
       "      <th>4</th>\n",
       "      <td>4</td>\n",
       "      <td>ноутбук aser продаётся ноутбук acer e c ta куп...</td>\n",
       "      <td>19000.0</td>\n",
       "      <td>1</td>\n",
       "    </tr>\n",
       "  </tbody>\n",
       "</table>\n",
       "</div>"
      ],
      "text/plain": [
       "   item_id                                               text    price  \\\n",
       "0        0                       картина гобелен размеры х см   1000.0   \n",
       "1        1  стулья из прессованной кожи продам недорого ст...   1250.0   \n",
       "2        2  домашняя мини баня мини баня мб мини сауна пре...  13000.0   \n",
       "3        3  эксклюзивная коллекция книг трансаэро подарок ...   4000.0   \n",
       "4        4  ноутбук aser продаётся ноутбук acer e c ta куп...  19000.0   \n",
       "\n",
       "   category_id  \n",
       "0           19  \n",
       "1           22  \n",
       "2           37  \n",
       "3           43  \n",
       "4            1  "
      ]
     },
     "execution_count": 7,
     "metadata": {},
     "output_type": "execute_result"
    }
   ],
   "source": [
    "data['text'] = data['text'].apply(digits_cleaner)\n",
    "data.head()"
   ]
  },
  {
   "cell_type": "markdown",
   "metadata": {},
   "source": [
    "## 2. Предобработка данных\n",
    "\n",
    "После токенизации нам необходимо привести все слова обращений к некоторой нормальной форме. Такое преобразование включает в себя:\n",
    "- Приведение слов к нормальной форме с помощью стемминга или лемматизации (будем использовать лемматизацию)\n",
    "- Осуществление списка заданных замен"
   ]
  },
  {
   "cell_type": "code",
   "execution_count": 6,
   "metadata": {
    "ExecuteTime": {
     "end_time": "2019-05-06T19:34:41.938871Z",
     "start_time": "2019-05-06T19:34:37.839605Z"
    }
   },
   "outputs": [
    {
     "data": {
      "text/plain": [
       "376867"
      ]
     },
     "execution_count": 6,
     "metadata": {},
     "output_type": "execute_result"
    }
   ],
   "source": [
    "#Перед началом преобразований посчитаем количество уникальных слов во всех обращениях:\n",
    "n_words = len(set(' '.join(data['text']).split()))\n",
    "n_words"
   ]
  },
  {
   "cell_type": "code",
   "execution_count": 7,
   "metadata": {
    "ExecuteTime": {
     "end_time": "2019-05-06T19:35:00.682248Z",
     "start_time": "2019-05-06T19:34:44.572881Z"
    }
   },
   "outputs": [],
   "source": [
    "from nltk.tokenize import RegexpTokenizer\n",
    "from nltk.corpus import stopwords\n",
    "import Stemmer as stm\n"
   ]
  },
  {
   "cell_type": "code",
   "execution_count": 8,
   "metadata": {
    "ExecuteTime": {
     "end_time": "2019-05-06T19:35:02.761845Z",
     "start_time": "2019-05-06T19:35:02.743993Z"
    }
   },
   "outputs": [],
   "source": [
    "def process(input_text):\n",
    "    language = 'russian'\n",
    "    #stemmer = stm.Stemmer(language)\n",
    "    \n",
    "    # List of stop words \n",
    "    stop_words = stopwords.words(language)\n",
    "    # Remove the stop words \n",
    "    input_text = [x for x in input_text.split() if not x in stop_words]  \n",
    "    # Stemming on the words \n",
    "    #input_text = [stemmer.stemWord(x) for x in input_text]\n",
    "    \n",
    "    return ' '.join(input_text)"
   ]
  },
  {
   "cell_type": "code",
   "execution_count": 9,
   "metadata": {
    "ExecuteTime": {
     "end_time": "2019-05-06T19:36:12.084295Z",
     "start_time": "2019-05-06T19:35:05.628731Z"
    }
   },
   "outputs": [],
   "source": [
    "data['text'] = data['text'].apply(process)"
   ]
  },
  {
   "cell_type": "code",
   "execution_count": 10,
   "metadata": {
    "ExecuteTime": {
     "end_time": "2019-05-06T19:36:13.584171Z",
     "start_time": "2019-05-06T19:36:13.574099Z"
    }
   },
   "outputs": [
    {
     "data": {
      "text/html": [
       "<div>\n",
       "<style scoped>\n",
       "    .dataframe tbody tr th:only-of-type {\n",
       "        vertical-align: middle;\n",
       "    }\n",
       "\n",
       "    .dataframe tbody tr th {\n",
       "        vertical-align: top;\n",
       "    }\n",
       "\n",
       "    .dataframe thead th {\n",
       "        text-align: right;\n",
       "    }\n",
       "</style>\n",
       "<table border=\"1\" class=\"dataframe\">\n",
       "  <thead>\n",
       "    <tr style=\"text-align: right;\">\n",
       "      <th></th>\n",
       "      <th>item_id</th>\n",
       "      <th>text</th>\n",
       "      <th>price</th>\n",
       "      <th>category_id</th>\n",
       "    </tr>\n",
       "  </thead>\n",
       "  <tbody>\n",
       "    <tr>\n",
       "      <th>0</th>\n",
       "      <td>0</td>\n",
       "      <td>картина гобелен размеры х см</td>\n",
       "      <td>1000.0</td>\n",
       "      <td>19</td>\n",
       "    </tr>\n",
       "    <tr>\n",
       "      <th>1</th>\n",
       "      <td>1</td>\n",
       "      <td>стулья прессованной кожи продам недорого стула...</td>\n",
       "      <td>1250.0</td>\n",
       "      <td>22</td>\n",
       "    </tr>\n",
       "    <tr>\n",
       "      <th>2</th>\n",
       "      <td>2</td>\n",
       "      <td>домашняя мини баня мини баня мб мини сауна пре...</td>\n",
       "      <td>13000.0</td>\n",
       "      <td>37</td>\n",
       "    </tr>\n",
       "    <tr>\n",
       "      <th>3</th>\n",
       "      <td>3</td>\n",
       "      <td>эксклюзивная коллекция книг трансаэро подарок ...</td>\n",
       "      <td>4000.0</td>\n",
       "      <td>43</td>\n",
       "    </tr>\n",
       "    <tr>\n",
       "      <th>4</th>\n",
       "      <td>4</td>\n",
       "      <td>ноутбук aser продаётся ноутбук acer e c ta куп...</td>\n",
       "      <td>19000.0</td>\n",
       "      <td>1</td>\n",
       "    </tr>\n",
       "  </tbody>\n",
       "</table>\n",
       "</div>"
      ],
      "text/plain": [
       "   item_id                                               text    price  \\\n",
       "0        0                       картина гобелен размеры х см   1000.0   \n",
       "1        1  стулья прессованной кожи продам недорого стула...   1250.0   \n",
       "2        2  домашняя мини баня мини баня мб мини сауна пре...  13000.0   \n",
       "3        3  эксклюзивная коллекция книг трансаэро подарок ...   4000.0   \n",
       "4        4  ноутбук aser продаётся ноутбук acer e c ta куп...  19000.0   \n",
       "\n",
       "   category_id  \n",
       "0           19  \n",
       "1           22  \n",
       "2           37  \n",
       "3           43  \n",
       "4            1  "
      ]
     },
     "execution_count": 10,
     "metadata": {},
     "output_type": "execute_result"
    }
   ],
   "source": [
    "data.head()"
   ]
  },
  {
   "cell_type": "code",
   "execution_count": 11,
   "metadata": {
    "ExecuteTime": {
     "end_time": "2019-05-06T19:36:20.656228Z",
     "start_time": "2019-05-06T19:36:20.385621Z"
    }
   },
   "outputs": [],
   "source": [
    "import pymorphy2\n",
    "from pymorphy2 import MorphAnalyzer\n",
    "\n",
    "from tqdm import tqdm"
   ]
  },
  {
   "cell_type": "code",
   "execution_count": 12,
   "metadata": {
    "ExecuteTime": {
     "end_time": "2019-05-06T19:36:27.065390Z",
     "start_time": "2019-05-06T19:36:27.054756Z"
    }
   },
   "outputs": [],
   "source": [
    "def to_lemmatize1(df):\n",
    "    lemmatizer = MorphAnalyzer()\n",
    "    lemm_func = lambda text: ' '.join([lemmatizer.normal_forms(word)[0] for word in text.split()])\n",
    "    df['lemmatized_text'] = df['text'].apply(lemm_func)\n",
    "    \n",
    "    return df"
   ]
  },
  {
   "cell_type": "code",
   "execution_count": 39,
   "metadata": {
    "ExecuteTime": {
     "end_time": "2019-04-25T21:52:56.248463Z",
     "start_time": "2019-04-25T21:52:56.231417Z"
    }
   },
   "outputs": [],
   "source": [
    "def to_lemmatize2(df):\n",
    "    all_word_str = \" \".join(df[\"text\"])\n",
    "    all_word_list = all_word_str.split()\n",
    "    all_unique_word = pd.Series(all_word_list).unique()\n",
    "    lemmatized_word_dict = {}\n",
    "    lemmatizer = MorphAnalyzer()\n",
    "    for word in tqdm(all_unique_word):\n",
    "        #Начало кода\n",
    "        key = lemmatizer.normal_forms(word)\n",
    "        lemmatized_word_dict[word] = lemmatizer.normal_forms(word)\n",
    "        #Конец кода\n",
    "    lemm_func = lambda text: ' '.join([lemmatized_word_dict[word][0] for word in text.split()])\n",
    "    df['lemmatized_text'] = df['text'].apply(lemm_func)\n",
    "    return df, all_unique_word"
   ]
  },
  {
   "cell_type": "code",
   "execution_count": 13,
   "metadata": {
    "ExecuteTime": {
     "end_time": "2019-05-06T20:08:17.993470Z",
     "start_time": "2019-05-06T19:36:31.809795Z"
    }
   },
   "outputs": [
    {
     "name": "stdout",
     "output_type": "stream",
     "text": [
      "CPU times: user 31min 40s, sys: 5.08 s, total: 31min 45s\n",
      "Wall time: 31min 46s\n"
     ]
    }
   ],
   "source": [
    "%%time\n",
    "\n",
    "data = to_lemmatize1(data)"
   ]
  },
  {
   "cell_type": "code",
   "execution_count": 14,
   "metadata": {
    "ExecuteTime": {
     "end_time": "2019-05-06T20:08:51.697299Z",
     "start_time": "2019-05-06T20:08:44.679409Z"
    }
   },
   "outputs": [],
   "source": [
    "data.to_csv('new_transformed_data.csv')"
   ]
  },
  {
   "cell_type": "code",
   "execution_count": 15,
   "metadata": {
    "ExecuteTime": {
     "end_time": "2019-05-06T20:08:57.017840Z",
     "start_time": "2019-05-06T20:08:53.956139Z"
    }
   },
   "outputs": [],
   "source": [
    "new_n_words = len(set(\" \".join(data[\"lemmatized_text\"]).split()))\n"
   ]
  },
  {
   "cell_type": "code",
   "execution_count": 16,
   "metadata": {
    "ExecuteTime": {
     "end_time": "2019-05-06T20:08:58.934475Z",
     "start_time": "2019-05-06T20:08:58.925932Z"
    }
   },
   "outputs": [
    {
     "name": "stdout",
     "output_type": "stream",
     "text": [
      "количество уникальных слов до обработки обращений: 376867\n",
      "количество уникальных слов после обработки обращений: 211801\n"
     ]
    }
   ],
   "source": [
    "print(\"количество уникальных слов до обработки обращений:\", n_words)\n",
    "print(\"количество уникальных слов после обработки обращений:\", new_n_words)"
   ]
  },
  {
   "cell_type": "code",
   "execution_count": 17,
   "metadata": {
    "ExecuteTime": {
     "end_time": "2019-05-06T20:09:30.833645Z",
     "start_time": "2019-05-06T20:09:30.787290Z"
    }
   },
   "outputs": [
    {
     "data": {
      "text/html": [
       "<div>\n",
       "<style scoped>\n",
       "    .dataframe tbody tr th:only-of-type {\n",
       "        vertical-align: middle;\n",
       "    }\n",
       "\n",
       "    .dataframe tbody tr th {\n",
       "        vertical-align: top;\n",
       "    }\n",
       "\n",
       "    .dataframe thead th {\n",
       "        text-align: right;\n",
       "    }\n",
       "</style>\n",
       "<table border=\"1\" class=\"dataframe\">\n",
       "  <thead>\n",
       "    <tr style=\"text-align: right;\">\n",
       "      <th></th>\n",
       "      <th>item_id</th>\n",
       "      <th>text</th>\n",
       "      <th>price</th>\n",
       "      <th>category_id</th>\n",
       "      <th>lemmatized_text</th>\n",
       "    </tr>\n",
       "  </thead>\n",
       "  <tbody>\n",
       "    <tr>\n",
       "      <th>0</th>\n",
       "      <td>0</td>\n",
       "      <td>картина гобелен размеры х см</td>\n",
       "      <td>1000.0</td>\n",
       "      <td>19</td>\n",
       "      <td>картина гобелен размер х сантиметр</td>\n",
       "    </tr>\n",
       "    <tr>\n",
       "      <th>1</th>\n",
       "      <td>1</td>\n",
       "      <td>стулья прессованной кожи продам недорого стула...</td>\n",
       "      <td>1250.0</td>\n",
       "      <td>22</td>\n",
       "      <td>стул прессовать кожа продать недорого стул све...</td>\n",
       "    </tr>\n",
       "    <tr>\n",
       "      <th>2</th>\n",
       "      <td>2</td>\n",
       "      <td>домашняя мини баня мини баня мб мини сауна пре...</td>\n",
       "      <td>13000.0</td>\n",
       "      <td>37</td>\n",
       "      <td>домашний минь баня минь баня мб минь сауна пре...</td>\n",
       "    </tr>\n",
       "    <tr>\n",
       "      <th>3</th>\n",
       "      <td>3</td>\n",
       "      <td>эксклюзивная коллекция книг трансаэро подарок ...</td>\n",
       "      <td>4000.0</td>\n",
       "      <td>43</td>\n",
       "      <td>эксклюзивный коллекция книга трансаэро подарок...</td>\n",
       "    </tr>\n",
       "    <tr>\n",
       "      <th>4</th>\n",
       "      <td>4</td>\n",
       "      <td>ноутбук aser продаётся ноутбук acer e c ta куп...</td>\n",
       "      <td>19000.0</td>\n",
       "      <td>1</td>\n",
       "      <td>ноутбук aser продаваться ноутбук acer e c ta к...</td>\n",
       "    </tr>\n",
       "  </tbody>\n",
       "</table>\n",
       "</div>"
      ],
      "text/plain": [
       "   item_id                                               text    price  \\\n",
       "0        0                       картина гобелен размеры х см   1000.0   \n",
       "1        1  стулья прессованной кожи продам недорого стула...   1250.0   \n",
       "2        2  домашняя мини баня мини баня мб мини сауна пре...  13000.0   \n",
       "3        3  эксклюзивная коллекция книг трансаэро подарок ...   4000.0   \n",
       "4        4  ноутбук aser продаётся ноутбук acer e c ta куп...  19000.0   \n",
       "\n",
       "   category_id                                    lemmatized_text  \n",
       "0           19                 картина гобелен размер х сантиметр  \n",
       "1           22  стул прессовать кожа продать недорого стул све...  \n",
       "2           37  домашний минь баня минь баня мб минь сауна пре...  \n",
       "3           43  эксклюзивный коллекция книга трансаэро подарок...  \n",
       "4            1  ноутбук aser продаваться ноутбук acer e c ta к...  "
      ]
     },
     "execution_count": 17,
     "metadata": {},
     "output_type": "execute_result"
    }
   ],
   "source": [
    "data.head()"
   ]
  },
  {
   "cell_type": "code",
   "execution_count": 20,
   "metadata": {
    "ExecuteTime": {
     "end_time": "2019-04-25T22:55:35.681964Z",
     "start_time": "2019-04-25T22:55:33.050575Z"
    }
   },
   "outputs": [],
   "source": [
    "texts = [text.split() for text in data['lemmatized_text']]"
   ]
  },
  {
   "cell_type": "code",
   "execution_count": 21,
   "metadata": {
    "ExecuteTime": {
     "end_time": "2019-04-25T22:55:38.636638Z",
     "start_time": "2019-04-25T22:55:37.938120Z"
    }
   },
   "outputs": [
    {
     "name": "stderr",
     "output_type": "stream",
     "text": [
      "/home/dimitry/anaconda3/lib/python3.7/site-packages/smart_open/ssh.py:34: UserWarning: paramiko missing, opening SSH/SCP/SFTP paths will be disabled.  `pip install paramiko` to suppress\n",
      "  warnings.warn('paramiko missing, opening SSH/SCP/SFTP paths will be disabled.  `pip install paramiko` to suppress')\n"
     ]
    }
   ],
   "source": [
    "from gensim.models import Word2Vec\n",
    "import tqdm\n",
    "\n",
    "import numpy as np"
   ]
  },
  {
   "cell_type": "code",
   "execution_count": 22,
   "metadata": {
    "ExecuteTime": {
     "end_time": "2019-04-25T22:57:13.240806Z",
     "start_time": "2019-04-25T22:55:45.327818Z"
    }
   },
   "outputs": [],
   "source": [
    "EMBEDDING_DIM = 100\n",
    "w2v = Word2Vec(sentences=texts, size=EMBEDDING_DIM, window=4, sg=0, iter=5, min_count=1)"
   ]
  },
  {
   "cell_type": "code",
   "execution_count": 30,
   "metadata": {
    "ExecuteTime": {
     "end_time": "2019-04-25T22:58:53.626670Z",
     "start_time": "2019-04-25T22:58:53.597521Z"
    }
   },
   "outputs": [
    {
     "name": "stderr",
     "output_type": "stream",
     "text": [
      "/home/dimitry/anaconda3/lib/python3.7/site-packages/ipykernel_launcher.py:1: DeprecationWarning: Call to deprecated `most_similar` (Method will be removed in 4.0.0, use self.wv.most_similar() instead).\n",
      "  \"\"\"Entry point for launching an IPython kernel.\n"
     ]
    },
    {
     "data": {
      "text/plain": [
       "[('гитара', 0.6751211881637573),\n",
       " ('лада', 0.6661633253097534),\n",
       " ('колок', 0.6518442630767822),\n",
       " ('фендеровский', 0.6439658403396606),\n",
       " ('флойда', 0.6391646862030029),\n",
       " ('колка', 0.6253440380096436),\n",
       " ('ладовый', 0.6135900020599365),\n",
       " ('электрогитара', 0.6088297367095947),\n",
       " ('звучка', 0.5997499227523804),\n",
       " ('rg421', 0.5995813608169556)]"
      ]
     },
     "execution_count": 30,
     "metadata": {},
     "output_type": "execute_result"
    }
   ],
   "source": [
    "w2v.most_similar('струна')"
   ]
  }
 ],
 "metadata": {
  "kernelspec": {
   "display_name": "Python 3",
   "language": "python",
   "name": "python3"
  },
  "language_info": {
   "codemirror_mode": {
    "name": "ipython",
    "version": 3
   },
   "file_extension": ".py",
   "mimetype": "text/x-python",
   "name": "python",
   "nbconvert_exporter": "python",
   "pygments_lexer": "ipython3",
   "version": "3.7.1"
  }
 },
 "nbformat": 4,
 "nbformat_minor": 2
}
